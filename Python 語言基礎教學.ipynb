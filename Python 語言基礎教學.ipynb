{
 "cells": [
  {
   "cell_type": "markdown",
   "metadata": {
    "nbpresent": {
     "id": "904e7041-5347-4036-bfff-4b5af4763913"
    },
    "slideshow": {
     "slide_type": "slide"
    }
   },
   "source": [
    "<center> <h1> Python 語言基礎教學 </h1> </center> <br>\n",
    "\n",
    "<center> 李宜熹 </center> <br>\n",
    "\n",
    "<center> <a href=\"mailto:eclee@nkfust.edu.tw?subject=[Question]QF20161108\"  target=\"_blank\"> eclee@nkfust.edu.tw </a> </center> <br>\n",
    "\n",
    "<center> 2016-11-8 </center>\n",
    "\n",
    "* 教材下載：<center><h2>[https://github.com/eclee/QF20161108](https://github.com/eclee/QF20161108) </h2> </center>\n",
    "\n",
    "* Terminal (CMD)：安裝 jupyter notebook 的 [RISE 套件](https://github.com/damianavila/RISE)\n",
    "<code>\n",
    "conda install -c damianavila82 rise\n",
    "</code>\n",
    "\n",
    "* 啟動 jupyter notebook\n",
    "    - 搜尋 jupyter notebook => 左鍵點擊 jupyter notebook\n",
    "\n",
    "* 讓 jupyter notebook 可以輸出多執行結果\n",
    "<code>\n",
    "from IPython.core.interactiveshell import InteractiveShell\n",
    "InteractiveShell.ast_node_interactivity = \"all\"\n",
    "</code>"
   ]
  },
  {
   "cell_type": "markdown",
   "metadata": {
    "slideshow": {
     "slide_type": "slide"
    }
   },
   "source": [
    "## 本週大綱\n",
    "* Python 強大特徵：簡單易學、擴充性強\n",
    "* Python IDE 簡介：jupyter notebook、Spyder\n",
    "* Python 資料型別：str、int、float、bool、datetime\n",
    "* Python 容器種類：list、tuple、dict、set\n",
    "* Python 流程控制：if-elif-else、for loop、while loop\n",
    "* Python 常用套件：numpy、scipy、matplotlib、pandas\n",
    "* Python 網路爬蟲：requests、BeautifulSoup"
   ]
  },
  {
   "cell_type": "markdown",
   "metadata": {
    "nbpresent": {
     "id": "293af2dd-d2e0-4f2e-a448-2cbf1641e7d5"
    },
    "slideshow": {
     "slide_type": "slide"
    }
   },
   "source": [
    "## Why Python?\n",
    "\n",
    "* 自由軟體：完全免費、參與者眾\n",
    "* 擴充性強：模組豐富、應用性強\n",
    "* 易學好用：語法簡潔、易學易懂\n",
    "* 跨平台：Windows / Linux / Mac / ...\n",
    "* 同好者眾：支援性強、問題快解\n",
    "\n",
    "[More：Python 發展歷史與特點](http://www.ziqiangxuetang.com/python/python-intro.html)"
   ]
  },
  {
   "cell_type": "markdown",
   "metadata": {
    "nbpresent": {
     "id": "81f50645-13d2-43a5-a557-902be09c9968"
    },
    "slideshow": {
     "slide_type": "subslide"
    }
   },
   "source": [
    "## 2016 IEEE Programming Languages Ranking\n",
    "[![](images/2016 IEEE Top 10 Programming Languages.png)](http://spectrum.ieee.org/computing/software/the-2016-top-programming-languages)"
   ]
  },
  {
   "cell_type": "markdown",
   "metadata": {
    "nbpresent": {
     "id": "94a40ef6-d5f5-451d-ba73-d11f8d4b2719"
    },
    "slideshow": {
     "slide_type": "subslide"
    }
   },
   "source": [
    "## PyPI (Python Packages Index)\n",
    "[![](images/PyPI.png)](https://pypi.python.org/pypi)"
   ]
  },
  {
   "cell_type": "markdown",
   "metadata": {
    "nbpresent": {
     "id": "25ac7855-2c20-47bb-b4ab-6a7fbba20e2d"
    },
    "slideshow": {
     "slide_type": "subslide"
    }
   },
   "source": [
    "## 2015 Github Statistics\n",
    "[![](images/Python vs R in Github.png)](http://githut.info/?utm_content=buffer781de&utm_medium=social&utm_source=facebook.com&utm_campaign=buffer)\n",
    "\n",
    "[Python vs. R (Datacamp)](https://www.datacamp.com/community/tutorials/r-or-python-for-data-analysis)"
   ]
  },
  {
   "cell_type": "markdown",
   "metadata": {
    "nbpresent": {
     "id": "6ddd881a-45b7-47cb-8a82-8c8280270623"
    },
    "slideshow": {
     "slide_type": "subslide"
    }
   },
   "source": [
    "## stackoverflow\n",
    "[![](images/2016 stackoverflow Languages Ranking.png)](http://stackoverflow.com/research/developer-survey-2016#technology-most-popular-technologies)"
   ]
  },
  {
   "cell_type": "markdown",
   "metadata": {
    "nbpresent": {
     "id": "bffb401d-945e-47a3-8202-d790f3c39c7c"
    },
    "slideshow": {
     "slide_type": "slide"
    }
   },
   "source": [
    "## 券商 API 議題\n",
    "* [證券商受理投資人使用應用程式介面（API）服務作業規範 105-06-01](http://www.selaw.com.tw/LawArticle.aspx?LawID=G0103841])\n",
    "* [證交所新聞 2016-08-08：讓更多懂財務又懂資訊的年輕人投入台灣資本市場](http://www.twse.com.tw/ch/about/press_room/tsec_news_detail.php?id=19373)\n",
    "* [證交所新聞 2016-09-19 ：證券商推動API下單服務，可以開始練兵囉，以奪得未來競賽獎項](http://www.twse.com.tw/ch/about/press_room/tsec_news_detail.php?id=19621)\n",
    "* [API 比較 (非常舊的資料)](http://moneyprinter.pixnet.net/blog/post/23278172-%E5%90%84%E5%AE%B6-api-%E7%94%B3%E8%AB%8B%E6%96%B9%E5%BC%8F%E8%88%87%E6%B3%A8%E6%84%8F%E4%BA%8B%E9%A0%85)  (Google 關鍵詞：券商名稱 + API + 程式語言 <= 大多使用 VB, C#, C++, Java, R [近期])\n",
    "    - [元大證券](http://www.yuanta.com.tw/pages/static-pages/service/product7.aspx?Node=7eef718e-b283-40db-aef3-b9ecf4303f7d)\n",
    "    - [凱基證券](http://www.kgieworld.com.tw/Service/Service_3_5.aspx?frm=15)\n",
    "    - [富邦證券](https://www.fubon.com/securities/home/day_content_20150729_154477.htm?show=m6)   \n",
    "    - [永豐金](http://www.sinotrade.com.tw/ec/eleader1/API.htm)\n",
    "    - [群益金鼎證券](https://www.capital.com.tw/Service2/download/API.asp)\n",
    "        + [Python?](https://www.capital.com.tw/Service2/download/API_BBSdetail.asp)\n",
    "    - ...\n",
    "    \n"
   ]
  },
  {
   "cell_type": "markdown",
   "metadata": {
    "nbpresent": {
     "id": "96cbf381-2b3a-4552-a4dd-33c83be18878"
    },
    "slideshow": {
     "slide_type": "subslide"
    }
   },
   "source": [
    "## Python 的直譯器版本\n",
    "* [CPython](https://zh.wikipedia.org/wiki/CPython)：用 C 語言實作的 Python 直譯器，係 Python 中最常見的直譯器。[2.7.x 版 / 3.5.x 版]\n",
    "* [Jython](http://www.jython.org/)：原名 Jpython，係由 Java 實作的 Python 直譯器，其可讓 Python 能在 Java 環境中使用。[2.7.x 版]\n",
    "* [IronPython](http://ironpython.net/)：在 .NET 和 Mono 上實作的 Python 語言，由 Jim Hugunin (同時也是Jython 創造者) 所創造。[2.7.x 版]"
   ]
  },
  {
   "cell_type": "markdown",
   "metadata": {
    "nbpresent": {
     "id": "3fa64452-39b2-4e24-983d-07a5bf82b02e"
    },
    "slideshow": {
     "slide_type": "slide"
    }
   },
   "source": [
    "## Python 環境建置：Anaconda (推薦)\n",
    "\n",
    "* 版本：2.x vs. 3.x\n",
    "\n",
    "[![](images/Anaconda.png)](https://www.continuum.io/downloads)\n",
    "\n",
    "[More](http://www.ziqiangxuetang.com/python/python-install.html)"
   ]
  },
  {
   "cell_type": "markdown",
   "metadata": {
    "nbpresent": {
     "id": "28a11fcd-516d-4007-ae51-4304d199cfbc"
    },
    "slideshow": {
     "slide_type": "subslide"
    }
   },
   "source": [
    "## Python IDE: jupyter notebook (Anaconda 內建)\n",
    "* jupyter 由來：[julia](http://julialang.org/) + [Python](https://www.python.org/) + [R](https://www.r-project.org/)\n",
    "* 互動式、即見式、展演式\n",
    "[![](images/jupyter.png)](http://jupyter.org/)"
   ]
  },
  {
   "cell_type": "markdown",
   "metadata": {
    "nbpresent": {
     "id": "72048d63-6776-41b6-874e-5ef962c3246a"
    },
    "slideshow": {
     "slide_type": "subslide"
    }
   },
   "source": [
    "## Python IDE: Spyder (Anaconda 內建)\n",
    "![](images/spyderIDE.png)"
   ]
  },
  {
   "cell_type": "markdown",
   "metadata": {
    "nbpresent": {
     "id": "e9d95b93-a13a-4adc-9aad-51e724a8e75b"
    },
    "slideshow": {
     "slide_type": "slide"
    }
   },
   "source": [
    "## jupyter notebook 基礎常識\n",
    "\n",
    "* 啟動 jupyter notebook\n",
    "    - 程式集：搜尋 jupyter notebook => 左鍵點擊 jupyter notebook\n",
    "    - 終端機 (命令提示字元)：輸入 jupyter notebook\n",
    "* 啟動工作目錄 (working diectory) 修改\n",
    "    - 終端機 (命令提示字元)：輸入 jupyter notebook --generate-config\n",
    "    - 開啟 jupyter_notebook_config.py，加入以下程式碼 (MyPath 請自定) 並存檔\n",
    "```\n",
    "c = get_config()\n",
    "c.NotebookApp.notebook_dir = u'MyPath'\n",
    "```\n",
    "    - 重新啟動 jupyter notebook\n",
    "* 多執行輸出設定\n",
    "```\n",
    "from IPython.core.interactiveshell import InteractiveShell\n",
    "InteractiveShell.ast_node_interactivity = \"all\"\n",
    "```\n",
    "\n",
    "* [27 Jupyter Notebook tips, tricks and shortcuts](https://www.dataquest.io/blog/jupyter-notebook-tips-tricks-shortcuts/) ([中譯版](http://www.liuchengxu.org/pelican-blog/jupyter-notebook-tips.html))"
   ]
  },
  {
   "cell_type": "markdown",
   "metadata": {
    "slideshow": {
     "slide_type": "slide"
    }
   },
   "source": [
    "## 常用的熱鍵或指令\n",
    "* 執行區塊：\n",
    "    - Shfit + Enter 執行該 cell 且跳下一個 cell\n",
    "    - Ctrl + Enter 執行該 cell (但停在該 cell)\n",
    "* 自動填滿：Tab 鍵\n",
    "* 線上諮詢：\n",
    "    - ?FunctionName()\n",
    "    - help FunctionName\n",
    "* 註解：\n",
    "    - 單行註解 #\n",
    "    - 多行註解 '''  '''\n"
   ]
  },
  {
   "cell_type": "markdown",
   "metadata": {
    "collapsed": true,
    "nbpresent": {
     "id": "ee3eb275-f96f-48fd-8995-cf8ba5f05238"
    },
    "slideshow": {
     "slide_type": "slide"
    }
   },
   "source": [
    "## Python 的變數型別\n",
    "* 資料型態\n",
    "    - 數值 numbers\n",
    "        + 整數 integer (int)\n",
    "        + 浮點數 float\n",
    "    - 字串 string (str)\n",
    "    - 邏輯 boolean (bool): True: 1; False: 0\n",
    "    - [日期時間 datetime](http://www.wklken.me/posts/2015/03/03/python-base-datetime.html)\n",
    "\n",
    "* 容器型態\n",
    "    - 列表 list\n",
    "    - 元組 tuple\n",
    "    - 字典 dict\n",
    "    - 集合 set\n",
    "    \n",
    "* 容器進階 \n",
    "    - 陣列 array (numpy 套件中的 ndarray)\n",
    "    - 序列 Series (pandas 套件)\n",
    "    - 資料框 DataFrame (pandas 套件)"
   ]
  },
  {
   "cell_type": "markdown",
   "metadata": {
    "slideshow": {
     "slide_type": "slide"
    }
   },
   "source": [
    "## 資料型態\n",
    "* 數值 number\n",
    "     - 整數 integer (int)\n",
    "     - 浮點數 float\n",
    "* 字串 string (str)\n",
    "* 邏輯 boolean (bool): True: 1; False: 0\n",
    "* 日期時間 datetime"
   ]
  },
  {
   "cell_type": "code",
   "execution_count": null,
   "metadata": {
    "collapsed": true,
    "slideshow": {
     "slide_type": "subslide"
    }
   },
   "outputs": [],
   "source": [
    "# 顯示設定：多重執行輸出\n",
    "#   http://www.liuchengxu.org/pelican-blog/jupyter-notebook-tips.html\n",
    "\n",
    "from IPython.core.interactiveshell import InteractiveShell\n",
    "InteractiveShell.ast_node_interactivity = \"all\""
   ]
  },
  {
   "cell_type": "code",
   "execution_count": null,
   "metadata": {
    "collapsed": false,
    "slideshow": {
     "slide_type": "fragment"
    }
   },
   "outputs": [],
   "source": [
    "# 字串 str\n",
    "\n",
    "# 字串宣告\n",
    "Name = 'EC'\n",
    "type(Name)    # type() 資料型態查詢\n",
    "\n",
    "ID = '001'\n",
    "\n",
    "## 字串串聯 (相加)\n",
    "NameID = Name + ID\n",
    "NameID\n",
    "\n",
    "## 字串分割\n",
    "sentence = 'It is raining cats and dogs'\n",
    "words = sentence.split(' ')   # 注意：此處是 ' ' 而非 ''\n",
    "print(words)"
   ]
  },
  {
   "cell_type": "code",
   "execution_count": null,
   "metadata": {
    "collapsed": false,
    "slideshow": {
     "slide_type": "fragment"
    }
   },
   "outputs": [],
   "source": [
    "# 整數 int\n",
    "\n",
    "A = 3\n",
    "type(A)\n",
    "\n",
    "B = 2\n",
    "C = A + B\n",
    "C\n",
    "\n",
    "type(C)"
   ]
  },
  {
   "cell_type": "code",
   "execution_count": null,
   "metadata": {
    "collapsed": false,
    "slideshow": {
     "slide_type": "fragment"
    }
   },
   "outputs": [],
   "source": [
    "# 浮點數 float\n",
    "\n",
    "A = 3\n",
    "type(A)\n",
    "\n",
    "B = 2.12345        # Python 2.x 中，須特別留意 5 vs. 5. 之區別\n",
    "C = A + B\n",
    "type(C)"
   ]
  },
  {
   "cell_type": "code",
   "execution_count": null,
   "metadata": {
    "collapsed": false,
    "slideshow": {
     "slide_type": "fragment"
    }
   },
   "outputs": [],
   "source": [
    "# 格式化輸出\n",
    "\n",
    "## 傳統作法 I\n",
    "print('Name=' + Name + ': A=' + str(A) + '; B=' + str(B))\n",
    "\n",
    "## 傳統作法 II\n",
    "print('Name=%s: A=%d; B=%d' % (Name, A, B))\n",
    "print('Name=%s: A=%d; B=%f' % (Name, A, B))\n",
    "print('Name=%s: A=%d; B=%3.5f' % (Name, A, B))\n",
    "\n",
    "''' \n",
    "%d is the format code for an integer.\n",
    "%f is the format code for a float.\n",
    "%s prints the str() of an object\n",
    "%r prints the repr() of an object (\n",
    "''' # http://stackoverflow.com/questions/15215242/python-2-7-d-s-and-float\n",
    "\n",
    "## 建議作法\n",
    "print('Name={0}: A={1}; B={2}'.format(Name, A, B))\n",
    "print('Name={}: A={}; B={}'.format(Name, A, B))"
   ]
  },
  {
   "cell_type": "code",
   "execution_count": null,
   "metadata": {
    "collapsed": false,
    "slideshow": {
     "slide_type": "fragment"
    }
   },
   "outputs": [],
   "source": [
    "# 邏輯 bool: True: 1; False: 0\n",
    "\n",
    "A = 3\n",
    "B = 3\n",
    "\n",
    "A == B\n",
    "type(A == B)\n",
    "A != B\n",
    "\n",
    "A is B\n",
    "A is not B\n",
    "\n",
    "res = (A == B)\n",
    "res\n",
    "res == 0"
   ]
  },
  {
   "cell_type": "code",
   "execution_count": null,
   "metadata": {
    "collapsed": false,
    "slideshow": {
     "slide_type": "fragment"
    }
   },
   "outputs": [],
   "source": [
    "# package: datetime\n",
    "#   http://www.wklken.me/posts/2015/03/03/python-base-datetime.html\n",
    "\n",
    "# 取得當下的日期與時間\n",
    "import datetime\n",
    "now = datetime.datetime.now()\n",
    "now\n",
    "type(now)                             # datetime.datetime\n",
    "type(datetime.datetime.now().date())  # datetime.date\n",
    "type(datetime.date.today())   \n",
    "type(datetime.datetime.now().time())  # datetime.time\n",
    "\n",
    "# datetime 2 string: .strftime(Format)\n",
    "date = datetime.datetime.now().strftime(\"%Y-%m-%d %H:%M:%S\")\n",
    "date\n",
    "date = datetime.datetime.now().strftime(\"%Y%m%d\")\n",
    "date\n",
    "type(date)                            # str"
   ]
  },
  {
   "cell_type": "markdown",
   "metadata": {
    "slideshow": {
     "slide_type": "slide"
    }
   },
   "source": [
    "## 容器型態\n",
    "* [列表 list](http://www.runoob.com/python/python-lists.html)\n",
    "* [元組 tuple](http://www.runoob.com/python/python-tuples.html)\n",
    "* [字典 dict](http://www.runoob.com/python/python-dictionary.html)\n",
    "* [集合 set](http://www.iplaypython.com/jichu/set.html)"
   ]
  },
  {
   "cell_type": "code",
   "execution_count": null,
   "metadata": {
    "collapsed": false,
    "slideshow": {
     "slide_type": "subslide"
    }
   },
   "outputs": [],
   "source": [
    "# 列表 list：[]\n",
    "\n",
    "## 宣告方式\n",
    "list1 = []\n",
    "list1 = list()\n",
    "type(list1)\n",
    "\n",
    "list1 = ['B', 'A', 'C'] \n",
    "list1\n",
    "\n",
    "list1[0]      # indexing 索引指標\n",
    "list1[-1]\n",
    "list1[1:]\n",
    "\n",
    "len(list1)    # len()：計算 list 長度\n",
    "\n",
    "list2 = [80, 70]\n",
    "\n",
    "list1 + list2   # list 串聯\n",
    "\n",
    "list1 * 3       # list 複製"
   ]
  },
  {
   "cell_type": "code",
   "execution_count": null,
   "metadata": {
    "collapsed": false,
    "slideshow": {
     "slide_type": "fragment"
    }
   },
   "outputs": [],
   "source": [
    "## in 隸屬 (包含) operatior\n",
    "element = 'C'\n",
    "element in list1\n",
    "\n",
    "element = 'D'\n",
    "element in list1\n",
    "\n",
    "## 排序：sorted()\n",
    "sorted(list1)\n",
    "sorted(list1, reverse=True)\n",
    "\n",
    "## 排序：.sort()      # 注意：會蓋掉原始序列\n",
    "list3 = list1.copy()   \n",
    "print(list3)\n",
    "\n",
    "list3.sort()\n",
    "print(list3)\n",
    "\n",
    "list3.sort(reverse=True)\n",
    "print(list3)\n",
    "\n",
    "## 顛倒 list\n",
    "list3.reverse()\n",
    "print(list3)\n",
    "\n",
    "## 移除特定 element\n",
    "list3.remove('B')\n",
    "print(list3)\n",
    "\n",
    "## 刪除 list\n",
    "del list3"
   ]
  },
  {
   "cell_type": "code",
   "execution_count": null,
   "metadata": {
    "collapsed": false,
    "slideshow": {
     "slide_type": "subslide"
    }
   },
   "outputs": [],
   "source": [
    "# tuple 元組：()\n",
    "\n",
    "## tuple vs. list: \n",
    "#  1. tuple 生成後不可修改；list 生成後可以修改 (區別：記憶體能否動態配置)\n",
    "#  2. tuple 的處理效能會優於 list，但 list 的彈性會優於 tuple\n",
    "\n",
    "## 宣告方式\n",
    "tup1 = ()\n",
    "tup1 = tuple()\n",
    "type(tup1)\n",
    "\n",
    "tup1 = ('physics', 'chemistry', 1997, 2000)\n",
    "tup1\n",
    "\n",
    "# 型別轉換\n",
    "tuple(list1)   # list 2 tuple\n",
    "list(tup1)     # tuple 2 list"
   ]
  },
  {
   "cell_type": "code",
   "execution_count": null,
   "metadata": {
    "collapsed": false,
    "slideshow": {
     "slide_type": "subslide"
    }
   },
   "outputs": [],
   "source": [
    "# dict 字典：{key : value}\n",
    "\n",
    "## 宣告 dict\n",
    "dict1 = {}\n",
    "type(dict1)\n",
    "\n",
    "dict1 = {'Alice': '2341', 'Beth': '9102', 'Cecil': '3258'}\n",
    "dict1\n",
    "\n",
    "dict1.keys()\n",
    "dict1.values()\n",
    "\n",
    "dict1['Alice']"
   ]
  },
  {
   "cell_type": "code",
   "execution_count": null,
   "metadata": {
    "collapsed": false,
    "slideshow": {
     "slide_type": "subslide"
    }
   },
   "outputs": [],
   "source": [
    "# set 集合\n",
    "\n",
    "# 宣告 set\n",
    "set1 = set()\n",
    "type(set1)\n",
    "\n",
    "a = set('abc')\n",
    "a.add('wxyz')\n",
    "a\n",
    "\n",
    "a = set('abc')\n",
    "a.update('wxyz')\n",
    "a\n",
    "\n",
    "a = set('abc')\n",
    "b = set('cde')\n",
    "a & b   # 交集\n",
    "a | b   # 聯集\n",
    "a - b   # 差集"
   ]
  },
  {
   "cell_type": "markdown",
   "metadata": {
    "slideshow": {
     "slide_type": "slide"
    }
   },
   "source": [
    "## 流程控制\n",
    "* if-elif-else\n",
    "* for loop\n",
    "* while loop"
   ]
  },
  {
   "cell_type": "code",
   "execution_count": null,
   "metadata": {
    "collapsed": false,
    "slideshow": {
     "slide_type": "subslide"
    }
   },
   "outputs": [],
   "source": [
    "# 條件判斷 if-else\n",
    "\n",
    "A = 3\n",
    "B = 2\n",
    "\n",
    "if A == B:\n",
    "    print('A = B')\n",
    "else:\n",
    "    print('A != B')"
   ]
  },
  {
   "cell_type": "code",
   "execution_count": null,
   "metadata": {
    "collapsed": false,
    "slideshow": {
     "slide_type": "fragment"
    }
   },
   "outputs": [],
   "source": [
    "# 條件判斷 if-elif-else\n",
    "\n",
    "A = 3\n",
    "B = 2\n",
    "\n",
    "if A > B:\n",
    "    print('A > B')\n",
    "elif A < B:\n",
    "    print('A < B')\n",
    "else:\n",
    "    print('A = B')"
   ]
  },
  {
   "cell_type": "code",
   "execution_count": null,
   "metadata": {
    "collapsed": false,
    "slideshow": {
     "slide_type": "subslide"
    }
   },
   "outputs": [],
   "source": [
    "# for 迴圈\n",
    "\n",
    "A = range(10)\n",
    "\n",
    "for i in A:\n",
    "    print('{} \\n'.format(i))"
   ]
  },
  {
   "cell_type": "code",
   "execution_count": null,
   "metadata": {
    "collapsed": false,
    "slideshow": {
     "slide_type": "fragment"
    }
   },
   "outputs": [],
   "source": [
    "help(range)"
   ]
  },
  {
   "cell_type": "code",
   "execution_count": null,
   "metadata": {
    "collapsed": false,
    "slideshow": {
     "slide_type": "fragment"
    }
   },
   "outputs": [],
   "source": [
    "# for 迴圈\n",
    "\n",
    "A = range(1,10, 2)\n",
    "\n",
    "for i, item in enumerate(A):    # enumerate: iterator\n",
    "    print('{}: {} \\n'.format(i, item))"
   ]
  },
  {
   "cell_type": "code",
   "execution_count": null,
   "metadata": {
    "collapsed": false,
    "slideshow": {
     "slide_type": "subslide"
    }
   },
   "outputs": [],
   "source": [
    "# while 迴圈\n",
    "\n",
    "count = 0\n",
    "while (count < 8):\n",
    "    print(count)\n",
    "    count += 1\n",
    "count"
   ]
  },
  {
   "cell_type": "code",
   "execution_count": null,
   "metadata": {
    "collapsed": false,
    "slideshow": {
     "slide_type": "fragment"
    }
   },
   "outputs": [],
   "source": [
    "# while 迴圈\n",
    "\n",
    "count = 0\n",
    "while (count < 10):\n",
    "    if count % 3 == 0:\n",
    "        print(str(count))\n",
    "    count += 1"
   ]
  },
  {
   "cell_type": "markdown",
   "metadata": {
    "slideshow": {
     "slide_type": "slide"
    }
   },
   "source": [
    "## 自定函式 (Functions)\n",
    "* def function\n",
    "* lambda function\n",
    "* 自定 module (待續)\n",
    "* 自定 package (待續)"
   ]
  },
  {
   "cell_type": "code",
   "execution_count": null,
   "metadata": {
    "collapsed": false,
    "slideshow": {
     "slide_type": "subslide"
    }
   },
   "outputs": [],
   "source": [
    "# def function\n",
    "def f(x): \n",
    "    return x**2\n",
    "\n",
    "def f(x): return x**2\n",
    "\n",
    "# lambda function\n",
    "g = lambda x: x**2\n",
    "\n",
    "f(3)\n",
    "g(3)\n",
    "\n",
    "MySum = lambda x, y: x + y\n",
    "MySum(3,2)"
   ]
  },
  {
   "cell_type": "code",
   "execution_count": null,
   "metadata": {
    "collapsed": false,
    "slideshow": {
     "slide_type": "fragment"
    }
   },
   "outputs": [],
   "source": [
    "## 字串分割\n",
    "sentence = 'It is raining cats and dogs'\n",
    "words = sentence.split(' ')   # 注意：此處是 ' ' 而非 ''\n",
    "type(words)\n",
    "print(words)\n",
    "\n",
    "lengths = map(lambda word: len(word), words)\n",
    "print(lengths)"
   ]
  },
  {
   "cell_type": "code",
   "execution_count": null,
   "metadata": {
    "collapsed": false,
    "slideshow": {
     "slide_type": "fragment"
    }
   },
   "outputs": [],
   "source": [
    "# function\n",
    "\n",
    "def MyMean(data):\n",
    "    total = 0\n",
    "    for num in data:           # 避免使用回圈是提高計算效率的關鍵之一\n",
    "        total = total + num\n",
    "    return total / len(data)"
   ]
  },
  {
   "cell_type": "code",
   "execution_count": null,
   "metadata": {
    "collapsed": false,
    "slideshow": {
     "slide_type": "fragment"
    }
   },
   "outputs": [],
   "source": [
    "data = [1, 2, 5, 8, 11]\n",
    "MyMean(data)"
   ]
  },
  {
   "cell_type": "markdown",
   "metadata": {
    "slideshow": {
     "slide_type": "slide"
    }
   },
   "source": [
    "## 財金常見的儲存格式\n",
    "* 文字檔：txt (tab 分隔 / space 分隔)、csv (逗點分隔 / 分號分隔)\n",
    "* EXCEL 檔：xls / xlsx\n",
    "* 網路檔：html / xml / json\n",
    "* 資料庫：MySQL / MSSQL / SQLite / ... (待續)\n",
    "\n",
    "[Encoding 文字編碼議題]"
   ]
  },
  {
   "cell_type": "markdown",
   "metadata": {
    "slideshow": {
     "slide_type": "slide"
    }
   },
   "source": [
    "## 財金常用套件\n",
    "* numpy 數值運算 (向量化操作)\n",
    "* matplotlib 基本繪圖\n",
    "* pandas 時間序列資料處理與繪圖\n",
    "* scipy 科學、統計運算 (待續)\n",
    "* scikit-learn 機器學習 (略)\n",
    "\n",
    "[More](PyPI - the Python Package Index)"
   ]
  },
  {
   "cell_type": "markdown",
   "metadata": {
    "slideshow": {
     "slide_type": "slide"
    }
   },
   "source": [
    "## numpy 套件\n",
    "* 魔術命令 (Magic Commands) 清單\n",
    "* 程式效率性議題\n",
    "    - 向量化運算 (Vectorization) vs 迴圈運算 (Loop)\n",
    "    - 平行化演算 (略)\n",
    "    - 分散式運算 (Hadoop / Spark) (略)"
   ]
  },
  {
   "cell_type": "code",
   "execution_count": null,
   "metadata": {
    "collapsed": false,
    "slideshow": {
     "slide_type": "subslide"
    }
   },
   "outputs": [],
   "source": [
    "# 魔術命令 (Magic Commands) 清單\n",
    "%lsmagic"
   ]
  },
  {
   "cell_type": "code",
   "execution_count": null,
   "metadata": {
    "collapsed": false,
    "slideshow": {
     "slide_type": "slide"
    }
   },
   "outputs": [],
   "source": [
    "# 計算效率性 & 計算運算時間的魔術命令 (Quant. Trading 時常是毫秒之爭！)\n",
    "\n",
    "data = range(10000000)\n",
    "%time MyMean(data)     # 以 % 為起首的 Magic Command 魔術命令 (化繁為簡的指令)"
   ]
  },
  {
   "cell_type": "code",
   "execution_count": null,
   "metadata": {
    "collapsed": true,
    "slideshow": {
     "slide_type": "subslide"
    }
   },
   "outputs": [],
   "source": [
    "# packages 套件 的 兩種引用方式之適用性：以 {numpy} 數值運算套件為例\n",
    "\n",
    "def MyMean_Numpy(data):\n",
    "    n = data.size   # 用 . 取出 numpy 物件 (object) 中的 size 屬性\n",
    "\n",
    "    # from ~ (package) import ~ (function)  <= 適用在不複雜的 def 中 (確定不會有 namespace 衝突的狀況下使用)\n",
    "    from numpy import ones, dot\n",
    "    return dot(data, ones(n)) / n     # vectorization 向量化運算  vs. 迴圈運算 (計算效率提昇的關鍵)\n",
    "    \n",
    "    # import ~ (package) as ~ (alias)       <= 適用在 main script 中使用 (擔心會有 namespace 衝突的狀況下使用)\n",
    "    # import numpy as np\n",
    "    # return np.dot(data, ones(n)) / n    # dot product: https://docs.scipy.org/doc/numpy/reference/generated/numpy.ones.html"
   ]
  },
  {
   "cell_type": "code",
   "execution_count": null,
   "metadata": {
    "collapsed": false,
    "slideshow": {
     "slide_type": "subslide"
    }
   },
   "outputs": [],
   "source": [
    "import numpy as np\n",
    "data = np.arange(0,10000000)\n",
    "data.size\n",
    "%timeit MyMean_Numpy(data)      # %timeit: 計算特定 line 的執行時間與迭代次數 vs. %time"
   ]
  },
  {
   "cell_type": "code",
   "execution_count": null,
   "metadata": {
    "collapsed": false,
    "slideshow": {
     "slide_type": "subslide"
    }
   },
   "outputs": [],
   "source": [
    "%%time\n",
    "# %%time: 計算特定 cell 的執行時間\n",
    "\n",
    "import numpy as np\n",
    "data = np.arange(0,10000000)\n",
    "MyMean_Numpy(data)"
   ]
  },
  {
   "cell_type": "code",
   "execution_count": null,
   "metadata": {
    "collapsed": false,
    "slideshow": {
     "slide_type": "subslide"
    }
   },
   "outputs": [],
   "source": [
    "import numpy as np\n",
    "data = np.arange(0,10000000)\n",
    "%prun MyMean_Numpy(data)"
   ]
  },
  {
   "cell_type": "markdown",
   "metadata": {
    "collapsed": true,
    "slideshow": {
     "slide_type": "slide"
    }
   },
   "source": [
    "## matplotlib：繪圖的最基礎套件\n",
    "* Call Options 繪圖\n",
    "* Put Options 繪圖 (DIY)\n",
    "* Call + Put Options 繪圖 (DIY)\n",
    "* Options 函式實作 (DIY)"
   ]
  },
  {
   "cell_type": "code",
   "execution_count": null,
   "metadata": {
    "collapsed": false,
    "slideshow": {
     "slide_type": "subslide"
    }
   },
   "outputs": [],
   "source": [
    "# packages: numpy, matplotlib\n",
    "\n",
    "import numpy as np\n",
    "\n",
    "#K = 9100\n",
    "#Premium_Call = 179\n",
    "#Premium_Put = 185\n",
    "\n",
    "K = int(input('請輸入 K: '))   # keyboard 輸入：input()\n",
    "Premium_Call = int(input('請輸入 Premium_Call: '))\n",
    "Premium_Put = int(input('請輸入 Premium_Put: '))\n",
    "\n",
    "\n",
    "Interval = 500\n",
    "\n",
    "ST = np.arange(K - Interval, K + Interval)  # Vectorization\n",
    "#ST\n",
    "type(ST)"
   ]
  },
  {
   "cell_type": "code",
   "execution_count": null,
   "metadata": {
    "collapsed": false,
    "slideshow": {
     "slide_type": "subslide"
    }
   },
   "outputs": [],
   "source": [
    "# 計算 Payoff \n",
    "Payoff_LongCall = np.maximum(ST - K, 0) - Premium_Call   # Long Call\n",
    "Payoff_ShortCall = - Payoff_LongCall                     # Short Call\n",
    "Payoff_LongPut = np.maximum(K - ST, 0) - Premium_Put     # Long Put\n",
    "Payoff_ShortPut = - Payoff_LongPut                       # Short Put\n",
    "\n",
    "# 繪製 Payoff\n",
    "import matplotlib.pyplot as plt\n",
    "%matplotlib inline   \n",
    "# https://github.com/jupyter/docker-stacks/issues/51\n",
    "#%matplotlib notebook\n",
    "# https://www.reddit.com/r/IPython/comments/36p360/try_matplotlib_notebook_for_interactive_plots/\n",
    "\n",
    "plt.plot(ST, Payoff_LongCall, label='+C')\n",
    "plt.plot(ST, Payoff_ShortCall, label='-C')\n",
    "plt.axhline(0, color='black', ls='dashed')\n",
    "plt.axvline(K, color='black', ls='dashed')\n",
    "plt.axvline(K + Premium_Call, color='black', ls='dashed')\n",
    "\n",
    "plt.text(ST[0], Premium_Call, Premium_Call)  # http://www.futurile.net/2016/03/01/text-handling-in-matplotlib/\n",
    "plt.text(ST[0], -Premium_Call, -Premium_Call)\n",
    "plt.text(K, 0, K)\n",
    "plt.text(K+Premium_Call, 0, K+Premium_Call)\n",
    "\n",
    "plt.legend(loc='upper left')\n",
    "#plt.ylim([min(Payoff)-10, max(Payoff)+10])\n",
    "#plt.show()"
   ]
  },
  {
   "cell_type": "markdown",
   "metadata": {
    "collapsed": true,
    "slideshow": {
     "slide_type": "slide"
    }
   },
   "source": [
    "## pandas 套件：專門處理時間序列資料的套件\n",
    "* 範例 1：財金時間序列處理初階\n",
    "    - Yahoo! Finance / Google Finance 抓資料\n",
    "    - 計算 對數報酬率 與 簡單報酬\n",
    "    - rolling 運算 (如：滾動標準差的運算)\n",
    "* 範例 2：多個 csv / excel 檔案的整併"
   ]
  },
  {
   "cell_type": "code",
   "execution_count": null,
   "metadata": {
    "collapsed": false,
    "slideshow": {
     "slide_type": "subslide"
    }
   },
   "outputs": [],
   "source": [
    "# 範例 1：財金時間序列處理初階\n",
    "\n",
    "# pacakges: numpy, pandas, pandas.io.data (注意：其將移至 pandas-datareader)\n",
    "\n",
    "import numpy as np\n",
    "import pandas as pd\n",
    "\n",
    "import pandas.io.data as web\n",
    "# imort pandas_datareader as web    \n",
    "#   https://github.com/pydata/pandas-datareader"
   ]
  },
  {
   "cell_type": "code",
   "execution_count": null,
   "metadata": {
    "collapsed": false,
    "slideshow": {
     "slide_type": "subslide"
    }
   },
   "outputs": [],
   "source": [
    "goog = web.DataReader('GOOG', data_source='yahoo', start='3/14/2009')\n",
    "# https://finance.yahoo.com/quote/GOOG?p=GOOG\n",
    "\n",
    "type(goog)\n",
    "\n",
    "# 取出前 5 筆資料 (檢核用)\n",
    "goog.head()\n",
    "\n",
    "# 取出後 5 筆資料 (檢核用)\n",
    "goog.tail()\n",
    "\n",
    "# 取出後 n 筆資料 (檢核用)\n",
    "n = 3\n",
    "goog.tail(n)"
   ]
  },
  {
   "cell_type": "code",
   "execution_count": null,
   "metadata": {
    "collapsed": false,
    "slideshow": {
     "slide_type": "subslide"
    }
   },
   "outputs": [],
   "source": [
    "# 取出 Close\n",
    "\n",
    "goog['Close'].head()\n",
    "\n",
    "goog.Close.head()"
   ]
  },
  {
   "cell_type": "code",
   "execution_count": null,
   "metadata": {
    "collapsed": false,
    "slideshow": {
     "slide_type": "subslide"
    }
   },
   "outputs": [],
   "source": [
    "goog.Close[0]    # 注意：指標從 0 起始\n",
    "type(goog.Close[0])\n",
    "\n",
    "goog.Close[0:4]\n",
    "type(goog.Close[0:4])"
   ]
  },
  {
   "cell_type": "code",
   "execution_count": null,
   "metadata": {
    "collapsed": false,
    "slideshow": {
     "slide_type": "subslide"
    }
   },
   "outputs": [],
   "source": [
    "%matplotlib inline\n",
    "goog['Close'].plot()"
   ]
  },
  {
   "cell_type": "code",
   "execution_count": null,
   "metadata": {
    "collapsed": false,
    "slideshow": {
     "slide_type": "subslide"
    }
   },
   "outputs": [],
   "source": [
    "goog = web.DataReader('GOOG', data_source='google', start='3/14/2009')\n",
    "# https://www.google.com/finance?q=goog\n",
    "\n",
    "goog['Close'].plot()"
   ]
  },
  {
   "cell_type": "code",
   "execution_count": null,
   "metadata": {
    "collapsed": false,
    "slideshow": {
     "slide_type": "subslide"
    }
   },
   "outputs": [],
   "source": [
    "goog['Log_Ret'] = np.log(goog['Close'] / goog['Close'].shift(1)) \n",
    "goog.head()"
   ]
  },
  {
   "cell_type": "code",
   "execution_count": null,
   "metadata": {
    "collapsed": false,
    "slideshow": {
     "slide_type": "subslide"
    }
   },
   "outputs": [],
   "source": [
    "goog['Pct_Change'] = goog['Close'].pct_change()\n",
    "goog.head()"
   ]
  },
  {
   "cell_type": "code",
   "execution_count": null,
   "metadata": {
    "collapsed": false,
    "slideshow": {
     "slide_type": "subslide"
    }
   },
   "outputs": [],
   "source": [
    "window = 252\n",
    "goog['Volatility'] = pd.rolling_std(goog['Log_Ret'], window) * np.sqrt(window)   # rolling 計算 + 標準差的根號 T 法則 \n",
    "goog.tail()\n",
    "\n",
    "# Q: MA 怎麼運算？"
   ]
  },
  {
   "cell_type": "code",
   "execution_count": null,
   "metadata": {
    "collapsed": false,
    "slideshow": {
     "slide_type": "subslide"
    }
   },
   "outputs": [],
   "source": [
    "# 範例 2：多個 csv / excel 檔案的整併\n",
    "# packages: glob, pandas\n",
    "\n",
    "import pandas as pd\n",
    "import glob  # https://docs.python.org/2/library/glob.html\n",
    "\n",
    "path_filetype = 'Data/*.csv' \n",
    "list_file = glob.glob(path_filetype)\n",
    "list_file\n",
    "\n",
    "df = pd.DataFrame()\n",
    "for f in list_file:\n",
    "    tmp = pd.read_csv(f)\n",
    "    df = all_data.append(tmp,ignore_index=True)\n",
    "\n",
    "df.head()\n",
    "df.tail()"
   ]
  },
  {
   "cell_type": "code",
   "execution_count": null,
   "metadata": {
    "collapsed": true,
    "slideshow": {
     "slide_type": "subslide"
    }
   },
   "outputs": [],
   "source": [
    "# type 轉換\n",
    "df['valDate'] = pd.to_datetime(df['valDate'])\n",
    "df['maturityDate'] = pd.to_datetime(df['maturityDate'])\n",
    "df['callDate'] = pd.to_datetime(df['callDate'])\n",
    "\n",
    "# indexing\n",
    "df.valDate[0]\n",
    "df.valDate[0:3]\n",
    "\n",
    "# 敘述統計 (數值資料)\n",
    "all_data.describe()"
   ]
  },
  {
   "cell_type": "code",
   "execution_count": null,
   "metadata": {
    "collapsed": true,
    "slideshow": {
     "slide_type": "subslide"
    }
   },
   "outputs": [],
   "source": [
    "# 單準則 Subseting\n",
    "df[df.valDate < '1981-12-31 23:59:59']\n",
    "\n",
    "# 多準則 Subseting 1\n",
    "df1 = df[(df.valDate <= '1981-12-31') & (df.coupon > 8)]\\\n",
    "        .groupby('indexQuality')\\\n",
    "        .mean()\n",
    "df1.head()\n",
    "\n",
    "# 多準則 Subseting 3: pipe\n",
    "#    http://stackoverflow.com/questions/35687205/expressing-pandas-subset-using-pipe\n",
    "\n",
    "df2\\\n",
    "    .pipe(lambda df_: df_[df_.valDate <= '1981-12-31']) \\\n",
    "    .pipe(lambda df_: df_[df_.coupon > 8]) \\\n",
    "    .groupby('indexQuality')\\\n",
    "    .mean()\n",
    "df2.head()"
   ]
  },
  {
   "cell_type": "markdown",
   "metadata": {
    "slideshow": {
     "slide_type": "slide"
    }
   },
   "source": [
    "## 物件導向設計 (Object-Orientation Programming, OOP)"
   ]
  },
  {
   "cell_type": "code",
   "execution_count": null,
   "metadata": {
    "collapsed": true,
    "slideshow": {
     "slide_type": "subslide"
    }
   },
   "outputs": [],
   "source": [
    "# OOP\n",
    "class BankAccount:\n",
    "    # 方法：初始化屬性\n",
    "    def __init__(self, id, name):\n",
    "        self.id = id     # 帳號\n",
    "        self.name = name # 戶名\n",
    "        self.balance = 0 # 初始化帳戶餘額\n",
    "\n",
    "    # 方法：提款\n",
    "    def withdraw(self, amount):\n",
    "        # self.balance = self.balance - amount\n",
    "        self.balance -= amount   # Q：會有什麼問題？      \n",
    "    \n",
    "    # 方法：存款\n",
    "    def deposit(self, amount):\n",
    "        self.balance += amount\n",
    "        \n",
    "    # 方法：顯示帳戶資訊          \n",
    "    def __str__(self):     # 預設引數：http://xahlee.info/perl-python/function_def.html\n",
    "        return '帳號：{0} \\n姓名：{1} \\n餘額：{2}'.format(self.id, self.name, self.balance)"
   ]
  },
  {
   "cell_type": "code",
   "execution_count": null,
   "metadata": {
    "collapsed": false,
    "slideshow": {
     "slide_type": "fragment"
    }
   },
   "outputs": [],
   "source": [
    "Client_A = BankAccount('001', 'LEC')\n",
    "print(Client_A)"
   ]
  },
  {
   "cell_type": "code",
   "execution_count": null,
   "metadata": {
    "collapsed": false,
    "slideshow": {
     "slide_type": "fragment"
    }
   },
   "outputs": [],
   "source": [
    "Client_A.deposit(100)\n",
    "print(Client_A)"
   ]
  },
  {
   "cell_type": "code",
   "execution_count": null,
   "metadata": {
    "collapsed": false,
    "slideshow": {
     "slide_type": "fragment"
    }
   },
   "outputs": [],
   "source": [
    "Client_A.withdraw(50)\n",
    "print(Client_A)"
   ]
  },
  {
   "cell_type": "code",
   "execution_count": null,
   "metadata": {
    "collapsed": false,
    "slideshow": {
     "slide_type": "slide"
    }
   },
   "outputs": [],
   "source": [
    "# 封裝\n",
    "class BankAccount:\n",
    "    # 方法：初始化屬性\n",
    "    def __init__(self, id, name):\n",
    "        self.id = id     # 帳號\n",
    "        self.name = name # 戶名\n",
    "        self.balance = 0 # 初始化帳戶餘額\n",
    "    \n",
    "    # 方法：提款\n",
    "    def withdraw(self, amount):\n",
    "        action = -1    # -1 表示 提款\n",
    "        if amount <= 0:\n",
    "            print('提領金額不能等於零或負數')\n",
    "            # raise ValueError('提領金額不能等於零或負數')\n",
    "        elif amount > self.balance:\n",
    "            print('提領金額大於現有餘額，請重新輸入提領金額')\n",
    "            # raise ValueError('提領金額大於現有餘額，請重新輸入提領金額')\n",
    "        else:\n",
    "            # self.balance = self.balance - amount\n",
    "            self.balance -= amount   # Q：會有什麼問題？      \n",
    "            self.display(action, amount)\n",
    "    \n",
    "    # 方法：存款\n",
    "    def deposit(self, amount):\n",
    "        action = 1   # 1 表示 存款\n",
    "        if amount <= 0:\n",
    "            # print('存款金額不能為負數')\n",
    "            raise ValueError('存款金額不能為負數')\n",
    "        else:\n",
    "            self.balance += amount\n",
    "            #return self.balance\n",
    "            self.display(action, amount)\n",
    "    \n",
    "    # 方法：動作\n",
    "    def action(self, action):\n",
    "        if action == 1:\n",
    "            return '存款'\n",
    "        elif action == -1:\n",
    "            return '提款'\n",
    "        else:\n",
    "            return '查詢'\n",
    "            \n",
    "    # 方法：顯示帳戶資訊\n",
    "    def display(self, action = 0, amount = ''):     # 預設引數：http://xahlee.info/perl-python/function_def.html\n",
    "        print('帳號：{0} \\n姓名：{1} \\n動作：{2}{3} \\n餘額：{4}'.format(self.id, self.name, self.action(action), str(amount), self.balance))\n",
    "    # 方法：顯示帳戶資訊\n",
    "    def __str__(self, action = 0, amount = ''):     # 預設引數：http://xahlee.info/perl-python/function_def.html\n",
    "        return '帳號：{0} \\n姓名：{1} \\n動作：{2}{3} \\n餘額：{4}'.format(self.id, self.name, self.action(action), str(amount), self.balance)"
   ]
  },
  {
   "cell_type": "code",
   "execution_count": null,
   "metadata": {
    "collapsed": false,
    "slideshow": {
     "slide_type": "slide"
    }
   },
   "outputs": [],
   "source": [
    "client_A = BankAccount('001', 'LEC')\n",
    "#print(client_A)\n",
    "client_A.display()"
   ]
  },
  {
   "cell_type": "code",
   "execution_count": null,
   "metadata": {
    "collapsed": false,
    "slideshow": {
     "slide_type": "fragment"
    }
   },
   "outputs": [],
   "source": [
    "client_A.withdraw(100)"
   ]
  },
  {
   "cell_type": "code",
   "execution_count": null,
   "metadata": {
    "collapsed": false,
    "slideshow": {
     "slide_type": "fragment"
    }
   },
   "outputs": [],
   "source": [
    "client_A.deposit(500)"
   ]
  },
  {
   "cell_type": "code",
   "execution_count": null,
   "metadata": {
    "collapsed": true,
    "slideshow": {
     "slide_type": "fragment"
    }
   },
   "outputs": [],
   "source": [
    "## 繼承 & 多載\n",
    "\n",
    "class BankAccount_Checking(BankAccount):     # 銀行支存帳號 (繼承自：銀行帳戶)\n",
    "    def __init__(self, id, name):\n",
    "        super().__init__(id, name)  # 呼叫父類別 __init__()\n",
    "        self.overdraftlimit = 3000                           # 透支額度 (支存帳號 特有屬性)\n",
    "\n",
    "    def withdraw(self, amount):         # 方法重載：子類別中相同名稱的方法，可以替換掉父類別中相同名稱的方法\n",
    "        action = -1    # -1 表示 提款\n",
    "        if amount <= 0:\n",
    "            raise ValueError('提領金額不能等於零或負數')\n",
    "        elif amount > self.balance + self.overdraftlimit:\n",
    "            raise ValueError('超出透支額度')\n",
    "        else:\n",
    "            self.balance -= amount\n",
    "            self.display(action, amount)"
   ]
  },
  {
   "cell_type": "code",
   "execution_count": null,
   "metadata": {
    "collapsed": false,
    "slideshow": {
     "slide_type": "fragment"
    }
   },
   "outputs": [],
   "source": [
    "client_A = BankAccount_Checking('c001', 'EC Lee')\n",
    "print(client_A)"
   ]
  },
  {
   "cell_type": "code",
   "execution_count": null,
   "metadata": {
    "collapsed": false,
    "slideshow": {
     "slide_type": "fragment"
    }
   },
   "outputs": [],
   "source": [
    "client_A.withdraw(100)"
   ]
  },
  {
   "cell_type": "markdown",
   "metadata": {
    "nbpresent": {
     "id": "1e367798-7d69-4a46-9cd4-37c5f7b86a05"
    },
    "slideshow": {
     "slide_type": "slide"
    }
   },
   "source": [
    "# 實例演練：網路爬蟲\n",
    "\n",
    "* 實例 1：[TSE 證券商分公司明細表](http://www.twse.com.tw/ch/products/broker_service/broker2_list.php)\n",
    "* 實例 2：[TSE 買賣日報表查詢系統](http://bsr.twse.com.tw/bshtm/) [DIY]\n",
    "\n",
    "* 參考：\n",
    "    - [大數學堂 Video 教學](http://www.largitdata.com/course_list/)\n",
    "\n",
    "    - [More](http://cuiqingcai.com/category/technique/python)\n",
    "        + [Python爬虫利器一之Requests库的用法](http://cuiqingcai.com/2556.html)\n",
    "        + [Python爬虫利器二之Beautiful Soup的用法](http://cuiqingcai.com/1319.html)\n",
    "        + [Python爬虫利器三之Xpath语法与lxml库的用法](http://cuiqingcai.com/2621.html)\n",
    "        + [Python爬虫利器四之PhantomJS的用法](http://cuiqingcai.com/2577.html)\n",
    "        + [Python爬虫利器五之Selenium的用法](http://cuiqingcai.com/2599.html)\n",
    "        + [Python爬虫利器六之PyQuery的用法](http://cuiqingcai.com/2636.html)"
   ]
  },
  {
   "cell_type": "code",
   "execution_count": null,
   "metadata": {
    "collapsed": true,
    "slideshow": {
     "slide_type": "subslide"
    }
   },
   "outputs": [],
   "source": [
    "# TSE 證券商分公司明細表\n",
    "#   Target: http://www.twse.com.tw/ch/products/broker_service/broker2_list.php\n",
    "#   Version: 0.1\n",
    "#   Date: 2016-11-04\n",
    "#   Author: EC Lee\n",
    "#   To-Do List: 分行進階資訊的下載與彙整 http://www.twse.com.tw/ch/products/broker_service/broker_detail.php?STKNO=1021\n",
    "\n",
    "import requests as rs\n",
    "#import lxml.html as LH\n",
    "from bs4 import BeautifulSoup\n",
    "import pandas as pd\n",
    "\n",
    "headers = {\n",
    "'User-Agent':'Mozilla/5.0 (Windows NT 6.1; WOW64) AppleWebKit/537.36 (KHTML, like Gecko) Chrome/50.0.2661.94 Safari/537.36'\n",
    "} \n",
    "\n",
    "url = 'http://www.twse.com.tw/ch/products/broker_service/broker2_list.php'\n",
    "\n",
    "res = rs.get(url, headers = headers)\n",
    "res.encoding = 'big5' # 'utf-8'  #  http://sh3ll.me/2014/06/18/python-requests-encoding/\n",
    "#print(res.text)\n",
    "\n",
    "sp = BeautifulSoup(res.text, 'html.parser')\n",
    "#print(sp)\n",
    "\n",
    "table = sp.find('table', attrs={'class':'board_prod'})  # tag-attrs\n",
    "#print(table)\n",
    "\n",
    "data = [[td.text for td in row.select('td')]  # http://stackoverflow.com/questions/14487526/turning-beautifulsoup-output-into-matrix\n",
    "         for row in table.select('tr')]\n",
    "#print(data)   # list\n",
    "\n",
    "df = pd.DataFrame(data=data[1:len(data)], columns = data[0])\n",
    "#print(df)\n",
    "df"
   ]
  },
  {
   "cell_type": "code",
   "execution_count": null,
   "metadata": {
    "collapsed": true,
    "slideshow": {
     "slide_type": "subslide"
    }
   },
   "outputs": [],
   "source": [
    "# 爬出各分公司的超連結 (II 步曲：後續再擷取擷取更進一步的分公司資料)\n",
    "domain = 'http://www.twse.com.tw/ch/products/broker_service/'\n",
    "link = [domain +link.get('href') for link in table.find_all('a')]  # http://stackoverflow.com/questions/14487526/turning-beautifulsoup-output-into-matrix\n",
    "link\n",
    "len(link)  # 確認長度是否與前面的 df 一致，以利 Merge。"
   ]
  },
  {
   "cell_type": "code",
   "execution_count": null,
   "metadata": {
    "collapsed": true,
    "slideshow": {
     "slide_type": "fragment"
    }
   },
   "outputs": [],
   "source": [
    "# 資料 Merge: 將 link 併入主資料\n",
    "df['超連結'] = pd.DataFrame(link)\n",
    "df"
   ]
  },
  {
   "cell_type": "code",
   "execution_count": null,
   "metadata": {
    "collapsed": true,
    "slideshow": {
     "slide_type": "fragment"
    }
   },
   "outputs": [],
   "source": [
    "# packages: os, sys, datetime, pandas\n",
    "\n",
    "## 將 df 儲存成 csv 檔案 (檔名中標註抓取的日期，以利後續參照與查核)\n",
    "import os, sys\n",
    "from datetime import datetime\n",
    "today = datetime.now() \n",
    "\n",
    "filename = 'TSE 證券商分公司明細表'\n",
    "filename += str(today.strftime('%Y%m%d'))\n",
    "\n",
    "path = 'TSE 買賣日報表 (下載區)'\n",
    "if not os.path.exists(path):   # http://stackoverflow.com/questions/273192/how-to-check-if-a-directory-exists-and-create-it-if-necessary\n",
    "    os.makedirs(path) \n",
    "\n",
    "import pandas as pd\n",
    "\n",
    "## 儲存成 csv 檔案\n",
    "pathfilename = '{}/{}.csv'.format(path, filename)\n",
    "#print(pathfilename)   \n",
    "df.to_csv(pathfilename, sep=',', encoding='utf-8')\n",
    "\n",
    "## 儲存成 xlsx 檔案\n",
    "#    http://xlsxwriter.readthedocs.io/example_pandas_simple.html\n",
    "pathfilename = '{}/{}.xlsx'.format(path, filename)\n",
    "#print(pathfilename) \n",
    "\n",
    "writer = pd.ExcelWriter(pathfilename, engine='xlsxwriter')  # Create a Pandas Excel writer using XlsxWriter as the engine.\n",
    "df.to_excel(writer, sheet_name='Sheet1')                    # Convert the dataframe to an XlsxWriter Excel object.\n",
    "writer.save()                                               # Close the Pandas Excel writer and output the Excel file."
   ]
  },
  {
   "cell_type": "markdown",
   "metadata": {
    "slideshow": {
     "slide_type": "subslide"
    }
   },
   "source": [
    "## 實例 2：TSE 買賣日報表查詢系統 [DIY]\n",
    "*  [大數學堂](http://www.largitdata.com/)\n",
    "    - [如何透過OpenCV 破解台灣證券交易所買賣日報表的驗證碼(Captcha) (Part 1)?](http://www.largitdata.com/course/37/)\n",
    "    - [如何透過OpenCV 破解台灣證券交易所買賣日報表的驗證碼(Captcha) (Part 2)?](http://www.largitdata.com/course/38/)"
   ]
  },
  {
   "cell_type": "markdown",
   "metadata": {
    "collapsed": true,
    "nbpresent": {
     "id": "3e436d17-2356-48d2-ac27-82538ec68b0a"
    },
    "slideshow": {
     "slide_type": "slide"
    }
   },
   "source": [
    "## 網路資源\n",
    "\n",
    "* 自學\n",
    "    - [自强学堂](http://www.ziqiangxuetang.com/python/python-tutorial.html)\n",
    "    - [Datacamp](https://www.datacamp.com/getting-started?step=2&track=python)\n",
    "    - ...\n",
    "\n",
    "* 應用\n",
    "    - [大數學堂](http://www.largitdata.com/course_list/) [Video 教學]\n",
    "    - [用Numpy做一個自己的股票分析系統](http://slides.com/iampf/pycon-2016#/) ([Video 9:30-...](http://slides.com/iampf/pycon-2016#/))\n",
    "    - [jupyter notebook presentation 教學指引](https://www.youtube.com/watch?v=EOpcxy0RA1A)\n",
    "    - ...\n",
    "\n",
    "* 參考\n",
    "    - [Python 中文 (英文) 官方文档](http://python.usyiyi.cn/)\n",
    "    - [Python 3.5 技術手冊](http://openhome.cc/Gossip/CodeData/PythonTutorial/)\n",
    "    - [27 Jupyter Notebook tips, tricks and shortcuts](https://www.dataquest.io/blog/jupyter-notebook-tips-tricks-shortcuts/) ([中譯版](http://www.liuchengxu.org/pelican-blog/jupyter-notebook-tips.html))\n",
    "    - ...\n",
    "\n",
    "* 諮詢\n",
    "    - [stackoverflow](http://stackoverflow.com/questions/tagged/python)"
   ]
  }
 ],
 "metadata": {
  "anaconda-cloud": {},
  "celltoolbar": "Slideshow",
  "kernelspec": {
   "display_name": "Python [default]",
   "language": "python",
   "name": "python3"
  },
  "language_info": {
   "codemirror_mode": {
    "name": "ipython",
    "version": 3
   },
   "file_extension": ".py",
   "mimetype": "text/x-python",
   "name": "python",
   "nbconvert_exporter": "python",
   "pygments_lexer": "ipython3",
   "version": "3.5.2"
  },
  "livereveal": {
   "scroll": true
  },
  "nbpresent": {
   "slides": {},
   "themes": {
    "default": "56b38c57-4ffe-478a-9f92-8ca64a17c67c",
    "theme": {
     "56b38c57-4ffe-478a-9f92-8ca64a17c67c": {
      "id": "56b38c57-4ffe-478a-9f92-8ca64a17c67c",
      "palette": {
       "19cc588f-0593-49c9-9f4b-e4d7cc113b1c": {
        "id": "19cc588f-0593-49c9-9f4b-e4d7cc113b1c",
        "rgb": [
         252,
         252,
         252
        ]
       },
       "31af15d2-7e15-44c5-ab5e-e04b16a89eff": {
        "id": "31af15d2-7e15-44c5-ab5e-e04b16a89eff",
        "rgb": [
         68,
         68,
         68
        ]
       },
       "50f92c45-a630-455b-aec3-788680ec7410": {
        "id": "50f92c45-a630-455b-aec3-788680ec7410",
        "rgb": [
         155,
         177,
         192
        ]
       },
       "c5cc3653-2ee1-402a-aba2-7caae1da4f6c": {
        "id": "c5cc3653-2ee1-402a-aba2-7caae1da4f6c",
        "rgb": [
         43,
         126,
         184
        ]
       },
       "efa7f048-9acb-414c-8b04-a26811511a21": {
        "id": "efa7f048-9acb-414c-8b04-a26811511a21",
        "rgb": [
         25.118061674008803,
         73.60176211453744,
         107.4819383259912
        ]
       }
      },
      "rules": {
       "blockquote": {
        "color": "50f92c45-a630-455b-aec3-788680ec7410"
       },
       "code": {
        "font-family": "Anonymous Pro"
       },
       "h1": {
        "color": "c5cc3653-2ee1-402a-aba2-7caae1da4f6c",
        "font-family": "Lato",
        "font-size": 8
       },
       "h2": {
        "color": "c5cc3653-2ee1-402a-aba2-7caae1da4f6c",
        "font-family": "Lato",
        "font-size": 6
       },
       "h3": {
        "color": "50f92c45-a630-455b-aec3-788680ec7410",
        "font-family": "Lato",
        "font-size": 5.5
       },
       "h4": {
        "color": "c5cc3653-2ee1-402a-aba2-7caae1da4f6c",
        "font-family": "Lato",
        "font-size": 5
       },
       "h5": {
        "font-family": "Lato"
       },
       "h6": {
        "font-family": "Lato"
       },
       "h7": {
        "font-family": "Lato"
       },
       "pre": {
        "font-family": "Anonymous Pro",
        "font-size": 4
       }
      },
      "text-base": {
       "font-family": "Merriweather",
       "font-size": 4
      }
     }
    }
   }
  }
 },
 "nbformat": 4,
 "nbformat_minor": 0
}
